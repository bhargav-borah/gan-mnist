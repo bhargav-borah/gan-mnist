{
  "nbformat": 4,
  "nbformat_minor": 0,
  "metadata": {
    "colab": {
      "provenance": []
    },
    "kernelspec": {
      "name": "python3",
      "display_name": "Python 3"
    },
    "language_info": {
      "name": "python"
    }
  },
  "cells": [
    {
      "cell_type": "code",
      "execution_count": 1,
      "metadata": {
        "id": "RBiS3n-gXgAj"
      },
      "outputs": [],
      "source": [
        "import torch\n",
        "from torch import nn\n",
        "\n",
        "from torchvision import transforms as T\n",
        "from torchvision.datasets import MNIST\n",
        "from torchvision.utils import make_grid\n",
        "from torch.utils.data import DataLoader\n",
        "\n",
        "from tqdm.auto import tqdm\n",
        "import matplotlib.pyplot as plt"
      ]
    },
    {
      "cell_type": "code",
      "source": [
        "def show_image_tensors(image_tensors, n_images=25, size=(1, 28, 28)):\n",
        "\n",
        "  image_unflat = image_tensors.detach().cpu().view(-1, *size)\n",
        "  image_grid = make_grid(image_unflat[:n_images], nrow=5)\n",
        "\n",
        "  plt.imshow(image_grid.permute(1, 2, 0).squeeze())\n",
        "  plt.show()"
      ],
      "metadata": {
        "id": "ASHwln9DYApF"
      },
      "execution_count": 2,
      "outputs": []
    },
    {
      "cell_type": "markdown",
      "source": [
        "### Creating Generator"
      ],
      "metadata": {
        "id": "9u1o5N82YwcJ"
      }
    },
    {
      "cell_type": "code",
      "source": [
        "def get_generator_block(input_dim, output_dim):\n",
        "  return nn.Sequential(\n",
        "      nn.Linear(input_dim, output_dim),\n",
        "      nn.BatchNorm1d(output_dim),\n",
        "      nn.ReLU(inplace=True)\n",
        "  )"
      ],
      "metadata": {
        "id": "0wcbElLHY4Lr"
      },
      "execution_count": 3,
      "outputs": []
    },
    {
      "cell_type": "code",
      "source": [
        "class Generator(nn.Module):\n",
        "\n",
        "  def __init__(self, z_dim=10, im_dim=784, hidden_dim=128):\n",
        "    super(Generator, self).__init__()\n",
        "    self.gen = nn.Sequential(\n",
        "        get_generator_block(z_dim, hidden_dim),\n",
        "        get_generator_block(hidden_dim, hidden_dim * 2),\n",
        "        get_generator_block(hidden_dim * 2, hidden_dim * 4),\n",
        "        get_generator_block(hidden_dim * 4, hidden_dim * 8),\n",
        "        nn.Linear(hidden_dim * 8, im_dim),\n",
        "        nn.Sigmoid()\n",
        "    )\n",
        "\n",
        "  def forward(self, noise):\n",
        "    return self.gen(noise)"
      ],
      "metadata": {
        "id": "qSRoV8PuZJgS"
      },
      "execution_count": 4,
      "outputs": []
    },
    {
      "cell_type": "code",
      "source": [
        "def get_noise(n_samples, z_dim, device='cpu'):\n",
        "  return torch.randn(n_samples, z_dim, device=device)"
      ],
      "metadata": {
        "id": "6R8mNKZZacMB"
      },
      "execution_count": 5,
      "outputs": []
    },
    {
      "cell_type": "markdown",
      "source": [
        "### Creating Discriminator"
      ],
      "metadata": {
        "id": "KuKXMy1gaoNP"
      }
    },
    {
      "cell_type": "code",
      "source": [
        "def get_discriminator_block(input_dim, output_dim):\n",
        "  return nn.Sequential(\n",
        "      nn.Linear(input_dim, output_dim),\n",
        "      nn.LeakyReLU(0.2, inplace=True)\n",
        "  )"
      ],
      "metadata": {
        "id": "XV54d49AaySh"
      },
      "execution_count": 13,
      "outputs": []
    },
    {
      "cell_type": "code",
      "source": [
        "class Discriminator(nn.Module):\n",
        "\n",
        "  def __init__(self, im_dim=784, hidden_dim=128):\n",
        "    super(Discriminator, self).__init__()\n",
        "    self.disc = nn.Sequential(\n",
        "        get_discriminator_block(im_dim, hidden_dim * 4),\n",
        "        get_discriminator_block(hidden_dim * 4, hidden_dim * 2),\n",
        "        get_discriminator_block(hidden_dim * 2, hidden_dim),\n",
        "        nn.Linear(hidden_dim , 1)\n",
        "    )\n",
        "\n",
        "  def forward(self, image):\n",
        "    return self.disc(image)"
      ],
      "metadata": {
        "id": "JEyRA-YrbFUz"
      },
      "execution_count": 14,
      "outputs": []
    },
    {
      "cell_type": "markdown",
      "source": [
        "### Training"
      ],
      "metadata": {
        "id": "fPn8kUZ3bw6Z"
      }
    },
    {
      "cell_type": "code",
      "source": [
        "loss_fn = nn.BCEWithLogitsLoss()\n",
        "n_epochs = 200\n",
        "z_dim = 64\n",
        "display_step = 200\n",
        "batch_size = 128\n",
        "lr = 1e-5\n",
        "device = torch.device('cuda') if torch.cuda.is_available() else torch.device('cpu')"
      ],
      "metadata": {
        "id": "s8mS9wGjc8Qz"
      },
      "execution_count": 9,
      "outputs": []
    },
    {
      "cell_type": "code",
      "source": [
        "dataloader = DataLoader(MNIST('.', download=True, transform=T.ToTensor()),\n",
        "                        batch_size=batch_size,\n",
        "                        shuffle=True)"
      ],
      "metadata": {
        "colab": {
          "base_uri": "https://localhost:8080/"
        },
        "id": "Vyq3vk-cdW05",
        "outputId": "46c68ea9-cb61-49bf-da13-2dee71eb0678"
      },
      "execution_count": 11,
      "outputs": [
        {
          "output_type": "stream",
          "name": "stdout",
          "text": [
            "Downloading http://yann.lecun.com/exdb/mnist/train-images-idx3-ubyte.gz\n",
            "Failed to download (trying next):\n",
            "HTTP Error 403: Forbidden\n",
            "\n",
            "Downloading https://ossci-datasets.s3.amazonaws.com/mnist/train-images-idx3-ubyte.gz\n",
            "Downloading https://ossci-datasets.s3.amazonaws.com/mnist/train-images-idx3-ubyte.gz to ./MNIST/raw/train-images-idx3-ubyte.gz\n"
          ]
        },
        {
          "output_type": "stream",
          "name": "stderr",
          "text": [
            "100%|██████████| 9912422/9912422 [00:06<00:00, 1600464.93it/s]\n"
          ]
        },
        {
          "output_type": "stream",
          "name": "stdout",
          "text": [
            "Extracting ./MNIST/raw/train-images-idx3-ubyte.gz to ./MNIST/raw\n",
            "\n",
            "Downloading http://yann.lecun.com/exdb/mnist/train-labels-idx1-ubyte.gz\n",
            "Failed to download (trying next):\n",
            "HTTP Error 403: Forbidden\n",
            "\n",
            "Downloading https://ossci-datasets.s3.amazonaws.com/mnist/train-labels-idx1-ubyte.gz\n",
            "Downloading https://ossci-datasets.s3.amazonaws.com/mnist/train-labels-idx1-ubyte.gz to ./MNIST/raw/train-labels-idx1-ubyte.gz\n"
          ]
        },
        {
          "output_type": "stream",
          "name": "stderr",
          "text": [
            "100%|██████████| 28881/28881 [00:00<00:00, 160198.28it/s]\n"
          ]
        },
        {
          "output_type": "stream",
          "name": "stdout",
          "text": [
            "Extracting ./MNIST/raw/train-labels-idx1-ubyte.gz to ./MNIST/raw\n",
            "\n",
            "Downloading http://yann.lecun.com/exdb/mnist/t10k-images-idx3-ubyte.gz\n",
            "Failed to download (trying next):\n",
            "HTTP Error 403: Forbidden\n",
            "\n",
            "Downloading https://ossci-datasets.s3.amazonaws.com/mnist/t10k-images-idx3-ubyte.gz\n",
            "Downloading https://ossci-datasets.s3.amazonaws.com/mnist/t10k-images-idx3-ubyte.gz to ./MNIST/raw/t10k-images-idx3-ubyte.gz\n"
          ]
        },
        {
          "output_type": "stream",
          "name": "stderr",
          "text": [
            "100%|██████████| 1648877/1648877 [00:01<00:00, 1294776.87it/s]\n"
          ]
        },
        {
          "output_type": "stream",
          "name": "stdout",
          "text": [
            "Extracting ./MNIST/raw/t10k-images-idx3-ubyte.gz to ./MNIST/raw\n",
            "\n",
            "Downloading http://yann.lecun.com/exdb/mnist/t10k-labels-idx1-ubyte.gz\n",
            "Failed to download (trying next):\n",
            "HTTP Error 403: Forbidden\n",
            "\n",
            "Downloading https://ossci-datasets.s3.amazonaws.com/mnist/t10k-labels-idx1-ubyte.gz\n",
            "Downloading https://ossci-datasets.s3.amazonaws.com/mnist/t10k-labels-idx1-ubyte.gz to ./MNIST/raw/t10k-labels-idx1-ubyte.gz\n"
          ]
        },
        {
          "output_type": "stream",
          "name": "stderr",
          "text": [
            "100%|██████████| 4542/4542 [00:00<00:00, 7574762.93it/s]\n"
          ]
        },
        {
          "output_type": "stream",
          "name": "stdout",
          "text": [
            "Extracting ./MNIST/raw/t10k-labels-idx1-ubyte.gz to ./MNIST/raw\n",
            "\n"
          ]
        }
      ]
    },
    {
      "cell_type": "code",
      "source": [
        "gen = Generator(z_dim).to(device)\n",
        "optimizer_G = torch.optim.Adam(params=gen.parameters(),\n",
        "                               lr=lr)\n",
        "\n",
        "disc = Discriminator().to(device)\n",
        "optimizer_D = torch.optim.Adam(params=disc.parameters(),\n",
        "                               lr=lr)"
      ],
      "metadata": {
        "id": "NasYdAuhdTqc"
      },
      "execution_count": 15,
      "outputs": []
    },
    {
      "cell_type": "code",
      "source": [],
      "metadata": {
        "id": "5gW0s3s3eKEA"
      },
      "execution_count": null,
      "outputs": []
    }
  ]
}