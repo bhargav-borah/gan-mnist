{
  "nbformat": 4,
  "nbformat_minor": 0,
  "metadata": {
    "colab": {
      "provenance": []
    },
    "kernelspec": {
      "name": "python3",
      "display_name": "Python 3"
    },
    "language_info": {
      "name": "python"
    }
  },
  "cells": [
    {
      "cell_type": "code",
      "execution_count": 1,
      "metadata": {
        "id": "7gXGlOT2j2Li"
      },
      "outputs": [],
      "source": [
        "import torch\n",
        "from torch import nn\n",
        "from torch.utils.data import DataLoader\n",
        "\n",
        "from torchvision import transforms as T\n",
        "from torchvision.datasets import MNIST\n",
        "from torchvision.utils import make_grid\n",
        "\n",
        "from tqdm.auto import tqdm\n",
        "import matplotlib.pyplot as plt"
      ]
    },
    {
      "cell_type": "code",
      "source": [
        "def show_image_tensors(image_tensors, n_images=25, size=(1, 28, 28)):\n",
        "\n",
        "  image_unflat = image_tensors.detach().cpu().view(-1, *size)\n",
        "  image_grid = make_grid(image_unflat[:n_images], nrow=5)\n",
        "\n",
        "  plt.imshow(image_grid.permute(1, 2, 0).squeeze())\n",
        "  plt.show()"
      ],
      "metadata": {
        "id": "rLEc4v5nknVo"
      },
      "execution_count": 2,
      "outputs": []
    },
    {
      "cell_type": "code",
      "source": [
        "class Generator(nn.Module):\n",
        "\n",
        "  def __init__(self, z_dim=10, im_chan=1, hidden_dim=64):\n",
        "    super(Generator, self).__init__()\n",
        "    self.gen = nn.Sequential(\n",
        "        self.get_generator_block(z_dim, hidden_dim * 4),\n",
        "        self.get_generator_block(hidden_dim * 4, hidden_dim * 2, kernel_size=4, stride=1),\n",
        "        self.get_generator_block(hidden_dim * 2, hidden_dim),\n",
        "        self.get_generator_block(hidden_dim, im_chan, kernel_size=4, final_layer=True)\n",
        "    )\n",
        "\n",
        "  def get_generator_block(self, in_channels, out_channels, kernel_size=3, stride=2, final_layer=False):\n",
        "    if not final_layer:\n",
        "      return nn.Sequential(\n",
        "          nn.ConvTranspose2d(in_channels, out_channels, kernel_size, stride),\n",
        "          nn.BatchNorm2d(out_channels),\n",
        "          nn.ReLU(inplace=True)\n",
        "      )\n",
        "    else:\n",
        "      return nn.Sequential(\n",
        "          nn.ConvTranspose2d(in_channels, out_channels, kernel_size, stride),\n",
        "          nn.Tanh()\n",
        "      )\n",
        "\n",
        "  def unsqueeze_noise(self, noise):\n",
        "    return noise.view(len(noise), self.z_dim, 1, 1)\n",
        "\n",
        "  def forward(self, noise):\n",
        "    x = self.unsqueeze_noise(noise)\n",
        "    return self.gen(x)"
      ],
      "metadata": {
        "id": "OSKk-A_LlKw5"
      },
      "execution_count": 4,
      "outputs": []
    },
    {
      "cell_type": "code",
      "source": [
        "def get_noise(n_samples, z_dim, device='cpu'):\n",
        "  return torch.randn(n_samples, z_dim, device=device)"
      ],
      "metadata": {
        "id": "wmKi8pCc4LRx"
      },
      "execution_count": 5,
      "outputs": []
    },
    {
      "cell_type": "code",
      "source": [
        "class Discriminator(nn.Module):\n",
        "\n",
        "  def __init__(self, im_chan=1, hidden_dim=16):\n",
        "    super(Discriminator, self).__init__()\n",
        "    self.disc = nn.Sequential(\n",
        "        self.get_discriminator_block(im_chan, hidden_dim),\n",
        "        self.get_discriminator_block(hidden_dim, hidden_dim * 2),\n",
        "        self.get_discriminator_block(hidden_dim * 2, 1, final_layer=True)\n",
        "    )\n",
        "\n",
        "  def get_discriminator_block(self, in_channels, out_channels, kernel_size=4, stride=1, final_layer=False):\n",
        "    if not final_layer:\n",
        "      return nn.Sequential(\n",
        "          nn.Conv2d(in_channels, out_channels, kernel_size, stride),\n",
        "          nn.BatchNorm2d(out_channels),\n",
        "          nn.LeakyReLU(0.2, inplace=True)\n",
        "      )\n",
        "    else:\n",
        "      return nn.Sequential(\n",
        "          nn.Conv2d(in_channels, out_channels, kernel_size, stride)\n",
        "      )\n",
        "\n",
        "    def forward(self, image):\n",
        "      disc_pred = self.disc(image)\n",
        "      return disc_pred.view(len(disc_pred), -1)"
      ],
      "metadata": {
        "id": "lQ37b-AZ6Sld"
      },
      "execution_count": 6,
      "outputs": []
    },
    {
      "cell_type": "code",
      "source": [],
      "metadata": {
        "id": "hlHYWghq7xYF"
      },
      "execution_count": null,
      "outputs": []
    }
  ]
}